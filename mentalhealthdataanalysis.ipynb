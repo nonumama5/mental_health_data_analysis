{
  "nbformat": 4,
  "nbformat_minor": 0,
  "metadata": {
    "colab": {
      "provenance": [],
      "authorship_tag": "ABX9TyOUreJs3cAImGaQZ16Jb24N",
      "include_colab_link": true
    },
    "kernelspec": {
      "name": "python3",
      "display_name": "Python 3"
    },
    "language_info": {
      "name": "python"
    }
  },
  "cells": [
    {
      "cell_type": "markdown",
      "metadata": {
        "id": "view-in-github",
        "colab_type": "text"
      },
      "source": [
        "<a href=\"https://colab.research.google.com/github/nonumama5/mental_health_data_analysis/blob/main/mentalhealthdataanalysis.ipynb\" target=\"_parent\"><img src=\"https://colab.research.google.com/assets/colab-badge.svg\" alt=\"Open In Colab\"/></a>"
      ]
    },
    {
      "cell_type": "code",
      "execution_count": 34,
      "metadata": {
        "colab": {
          "base_uri": "https://localhost:8080/"
        },
        "id": "ASwK-Wekssi4",
        "outputId": "7b5aa7bc-6aff-4fe5-b7a4-73f2f41782d9"
      },
      "outputs": [
        {
          "output_type": "stream",
          "name": "stdout",
          "text": [
            "Filtered data set size: (193, 21)\n",
            "THERAPY: Emotional impact metrics\n",
            " Therapy\n",
            "0    4.883117\n",
            "1    4.717949\n",
            "Name: Loneliness_Score, dtype: float64 \n",
            " Therapy\n",
            "0    11.058442\n",
            "1    10.769231\n",
            "Name: Anxiety_Score, dtype: float64 \n",
            " Therapy\n",
            "0    11.058442\n",
            "1    10.564103\n",
            "Name: Depression_Score, dtype: float64 \n",
            " Therapy\n",
            "0    4.746753\n",
            "1    5.410256\n",
            "Name: Stress_Level, dtype: float64 ,\n",
            " Therapy\n",
            "0    5.266234\n",
            "1    5.769231\n",
            "Name: Self_Esteem_Score, dtype: float64\n",
            "MEDITATION: Emotional impact metrics\n",
            " Meditation\n",
            "0    4.855932\n",
            "1    4.840000\n",
            "Name: Loneliness_Score, dtype: float64 \n",
            " Meditation\n",
            "0    11.415254\n",
            "1    10.346667\n",
            "Name: Anxiety_Score, dtype: float64 \n",
            " Meditation\n",
            "0    10.949153\n",
            "1    10.973333\n",
            "Name: Depression_Score, dtype: float64 \n",
            " Meditation\n",
            "0    4.881356\n",
            "1    4.880000\n",
            "Name: Stress_Level, dtype: float64 \n",
            " Meditation\n",
            "0    5.415254\n",
            "1    5.293333\n",
            "Name: Self_Esteem_Score, dtype: float64\n",
            "SOCIAL SUPPORT: Emotional impact metrics\n",
            " Social_Support_Score\n",
            "1    5.066667\n",
            "2    4.800000\n",
            "3    5.136364\n",
            "4    3.894737\n",
            "5    5.583333\n",
            "6    4.450000\n",
            "7    4.913043\n",
            "8    4.363636\n",
            "9    5.600000\n",
            "Name: Loneliness_Score, dtype: float64 \n",
            " Social_Support_Score\n",
            "1    11.266667\n",
            "2    10.520000\n",
            "3    11.090909\n",
            "4    11.157895\n",
            "5    11.500000\n",
            "6    10.400000\n",
            "7    12.043478\n",
            "8    11.227273\n",
            "9     9.800000\n",
            "Name: Anxiety_Score, dtype: float64 \n",
            " Social_Support_Score\n",
            "1    11.566667\n",
            "2     9.520000\n",
            "3     9.500000\n",
            "4    11.210526\n",
            "5    13.166667\n",
            "6    10.400000\n",
            "7     9.391304\n",
            "8    13.727273\n",
            "9    11.200000\n",
            "Name: Depression_Score, dtype: float64 \n",
            " Social_Support_Score\n",
            "1    5.133333\n",
            "2    5.240000\n",
            "3    4.590909\n",
            "4    4.052632\n",
            "5    3.500000\n",
            "6    5.250000\n",
            "7    4.869565\n",
            "8    4.681818\n",
            "9    5.850000\n",
            "Name: Stress_Level, dtype: float64 \n",
            " Social_Support_Score\n",
            "1    5.033333\n",
            "2    5.720000\n",
            "3    4.272727\n",
            "4    5.105263\n",
            "5    6.083333\n",
            "6    5.300000\n",
            "7    6.086957\n",
            "8    5.181818\n",
            "9    5.900000\n",
            "Name: Self_Esteem_Score, dtype: float64\n"
          ]
        }
      ],
      "source": [
        "import pandas as pd #importing pandas as pd\n",
        "df = pd.read_csv(\"/anxiety_depression_data.csv\")\n",
        "df_age = df[(df['Age'] >= 18) & (df['Age'] <=35)] #fitering age\n",
        "df_target = df_age[df_age['Employment_Status'].isin(['Student', 'Employed'])]#filtering the employement status for target\n",
        "print(\"Filtered data set size:\",df_target.shape)\n",
        "df_target.head()\n",
        "therapy_loneliness = df_target.groupby('Therapy')['Loneliness_Score'].mean()#Finding average loneliness with respect to factor 1\n",
        "therapy_anxiety = df_target.groupby('Therapy')['Anxiety_Score'].mean() #Finding average anxiety with respect to factor 1\n",
        "therapy_depression = df_target.groupby('Therapy')['Depression_Score'].mean() #Finding average depression with respect to factor 1\n",
        "therapy_stress = df_target.groupby('Therapy')['Stress_Level'].mean() #Finding average stress levels with respect to factor 1\n",
        "med_loneliness = df_target.groupby('Meditation')['Loneliness_Score'].mean() #Finding average loneliness with respect to factor 2\n",
        "med_anxiety = df_target.groupby('Meditation')['Anxiety_Score'].mean() #Finding average anxiety with respect to factor 2\n",
        "med_depression = df_target.groupby('Meditation')['Depression_Score'].mean() #Finding average depression with respect to factor 2\n",
        "med_stress = df_target.groupby('Meditation')['Stress_Level'].mean() #Finding average stress levels with respect to factor 2\n",
        "social_loneliness = df_target.groupby('Social_Support_Score')['Loneliness_Score'].mean() #Finding average loneliness with respect to factor 3\n",
        "social_anxiety = df_target.groupby('Social_Support_Score')['Anxiety_Score'].mean() #Finding average anxiety with respect to factor 3\n",
        "social_depression = df_target.groupby('Social_Support_Score')['Depression_Score'].mean() #Finding average depression with respect to factor 3\n",
        "social_stress = df_target.groupby('Social_Support_Score')['Stress_Level'].mean() #Finding average stress levels with respect to factor to factor 3\n",
        "therapy_selfesteem = df_target.groupby('Therapy')['Self_Esteem_Score'].mean() #Finding average self esteem with respect to factor 1\n",
        "med_selfesteem = df_target.groupby('Meditation')['Self_Esteem_Score'].mean() #Finding average self esteem with respect to factor 2\n",
        "social_selfesteem = df_target.groupby('Social_Support_Score')['Self_Esteem_Score'].mean() #Finding average self with respect to factor 3\n",
        "print(\"THERAPY: Emotional impact metrics\\n\",therapy_loneliness,\"\\n\",therapy_anxiety,\"\\n\",therapy_depression,\"\\n\",therapy_stress,\",\\n\",therapy_selfesteem)\n",
        "print(\"MEDITATION: Emotional impact metrics\\n\",med_loneliness,\"\\n\",med_anxiety,\"\\n\",med_depression,\"\\n\",med_stress,\"\\n\",med_selfesteem)\n",
        "print(\"SOCIAL SUPPORT: Emotional impact metrics\\n\",social_loneliness,\"\\n\",social_anxiety,\"\\n\",social_depression,\"\\n\",social_stress,\"\\n\",social_selfesteem)"
      ]
    },
    {
      "cell_type": "code",
      "metadata": {
        "id": "08325154"
      },
      "source": [],
      "execution_count": 31,
      "outputs": []
    }
  ]
}